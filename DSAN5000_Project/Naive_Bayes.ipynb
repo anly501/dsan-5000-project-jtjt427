{
 "cells": [
  {
   "cell_type": "markdown",
   "metadata": {},
   "source": [
    "---\n",
    "title: \"Naive Bayes\"\n",
    "format:\n",
    "  html:\n",
    "    toc: true\n",
    "    code-fold: true\n",
    "---"
   ]
  },
  {
   "cell_type": "markdown",
   "metadata": {},
   "source": [
    "## Introduction\n",
    "\n",
    "Naive Bayes(NB) classification is a probabilistic machine learning technique based on Bayes' theorem. It's widely used for various classification tasks, such as spam detection, sentiment analysis, and more. Its primary objective is to predict the class or category of a given data point based on the observed features. For the purpose of this study, I will perform NB on a recorded dataset(`CA_climate_fire`) and a text dataset(`articles_with_sentiment`).\n",
    "\n",
    "### How Naive Bayes Works:\n",
    "\n",
    "1. **Probabilistic Nature**: Naive Bayes is probabilistic in nature because it estimates the probability of a data point belonging to a particular class or category. It does this by calculating the conditional probabilities of the features given the class.\n",
    "\n",
    "2. **Bayes' Theorem Foundation**: It's built upon Bayes' theorem, which describes how to update the probability for a hypothesis based on new evidence. In classification, it's used to calculate the probability of a class given the observed features. The \"Naive\" part of Naive Bayes is the assumption that the features are conditionally independent, which simplifies the calculations.\n",
    "\n",
    "### Objectives of Naive Bayes Classification:\n",
    "\n",
    "In both datasets, the objective is to classify or predict something based on the given features. In the first dataset, we aim to predict the occurrence of a fire based on weather variable precipitation. In the second dataset, we want to classify the sentiment of text based on the content of the article.\n",
    "\n",
    "### Different Variants of Naive Bayes:\n",
    "\n",
    "1. **Gaussian Naive Bayes**: Use this when features are continuous and have a Gaussian (normal) distribution. \n",
    "2. **Multinomial Naive Bayes**: Suitable for discrete data, often used for text classification with features like word counts. I am using this model predicting sentiments basing on the contents of the articles for the text dataset.\n",
    "3. **Bernoulli Naive Bayes**: Appropriate when dealing with binary or Boolean features. It's often used for binary text classification where the presence or absence of words matters. "
   ]
  },
  {
   "cell_type": "markdown",
   "metadata": {},
   "source": [
    "## Naive Bayes on California Wildfire Statistics"
   ]
  },
  {
   "cell_type": "markdown",
   "metadata": {},
   "source": [
    "After having a basic idea on Naive Bayes concept, let's predict the occurrence of fires in California based on climatic conditions using the Gaussian Naive Bayes classifier. The process involves data preprocessing, feature selection, model training, testing, and evaluation to determine the model's performance in terms of accuracy and other metrics. The visualization of the confusion matrix further aids in understanding the model's true positive, true negative, false positive, and false negative predictions."
   ]
  },
  {
   "cell_type": "markdown",
   "metadata": {},
   "source": [
    "### Code Overview"
   ]
  },
  {
   "cell_type": "code",
   "execution_count": 19,
   "metadata": {},
   "outputs": [],
   "source": [
    "import pandas as pd\n",
    "import numpy as np\n",
    "from sklearn.model_selection import train_test_split\n",
    "from sklearn.naive_bayes import GaussianNB\n",
    "from sklearn.naive_bayes import MultinomialNB\n",
    "from sklearn.metrics import accuracy_score\n",
    "from itertools import chain, combinations\n",
    "from sklearn.metrics import confusion_matrix\n",
    "import seaborn as sns\n",
    "import matplotlib.pyplot as plt\n",
    "from sklearn.metrics import accuracy_score, classification_report, confusion_matrix\n",
    "from sklearn.metrics import roc_curve, auc\n",
    "from sklearn.feature_selection import SelectKBest, chi2"
   ]
  },
  {
   "cell_type": "code",
   "execution_count": 3,
   "metadata": {},
   "outputs": [
    {
     "name": "stdout",
     "output_type": "stream",
     "text": [
      "Best Feature Set: ('tempmax', 'tempmin')\n",
      "Best Accuracy: 0.8773333333333333\n"
     ]
    }
   ],
   "source": [
    "CA_climate_fire = pd.read_csv('../data/cleaned-data/CA_climate_fire.csv')\n",
    "CA_climate_fire_filtered = CA_climate_fire[['tempmax', 'tempmin', 'humidity', 'precip', 'windspeed', 'fire']]\n",
    "\n",
    "# Split the dataset into features and the target variable \n",
    "X = CA_climate_fire_filtered.drop(columns=[\"fire\"]) \n",
    "y = CA_climate_fire_filtered[\"fire\"]\n",
    "\n",
    "# Split the data into training and testing sets\n",
    "X_train, X_test, y_train, y_test = train_test_split(X, y, test_size=0.2, random_state=42)\n",
    "\n",
    "def powerset(iterable):\n",
    "    s = list(iterable)\n",
    "    return chain.from_iterable(combinations(s, r) for r in range(len(s)+1))\n",
    "\n",
    "# Initialize variables to keep track of the best feature set and its accuracy\n",
    "best_feature_set = None\n",
    "best_accuracy = 0.0\n",
    "# Generate all possible feature combinations using the powerset function\n",
    "all_feature_combinations = list(powerset(X.columns))\n",
    "\n",
    "# Loop through each feature combination\n",
    "for feature_set in all_feature_combinations:\n",
    "    if len(feature_set) > 0:  # Skip the empty set\n",
    "        # Subset the training and testing data using the current feature set\n",
    "        X_train_subset = X_train[list(feature_set)]\n",
    "        X_test_subset = X_test[list(feature_set)]\n",
    "\n",
    "        # Initialize and train a Gaussian Naïve Bayes classifier\n",
    "        gnb = GaussianNB()\n",
    "        gnb.fit(X_train_subset, y_train)\n",
    "\n",
    "        # Make predictions on the testing data\n",
    "        y_pred = gnb.predict(X_test_subset)\n",
    "\n",
    "        # Calculate accuracy\n",
    "        accuracy = accuracy_score(y_test, y_pred)\n",
    "\n",
    "        # Update the best feature set if the current one is better\n",
    "        if accuracy > best_accuracy:\n",
    "            best_accuracy = accuracy\n",
    "            best_feature_set = feature_set\n",
    "\n",
    "# Print the best feature set and its accuracy\n",
    "print(\"Best Feature Set:\", best_feature_set)\n",
    "print(\"Best Accuracy:\", best_accuracy)"
   ]
  },
  {
   "cell_type": "markdown",
   "metadata": {},
   "source": [
    "1. **Data Loading & Preprocessing**:\n",
    "   - Necessary libraries for data handling, modeling, and visualization are imported.\n",
    "   - The `CA_climate_fire` dataset is loaded, which contains information about various climatic factors and their association with fire occurrences in California.\n",
    "   - A subset of the dataset, `CA_climate_fire_filtered`, is created to retain only the relevant columns for the study: 'tempmax', 'tempmin', 'humidity', 'precip', 'windspeed', and 'fire'.\n",
    "\n",
    "2. **Data Splitting**:\n",
    "   - The dataset is split into features (`X`) and target labels (`y`). The goal is to predict the 'fire' occurrence based on the climatic factors.\n",
    "   - The data is further split into training and testing sets using an 80:20 ratio.\n",
    "\n",
    "3. **Feature Selection**:\n",
    "   - The `powerset` function is defined to generate all possible combinations of features.\n",
    "   - The best combination of features that gives the highest accuracy using the Gaussian Naive Bayes model is identified. The combination found to be best is 'tempmax' and 'tempmin'."
   ]
  },
  {
   "cell_type": "code",
   "execution_count": 4,
   "metadata": {},
   "outputs": [
    {
     "name": "stdout",
     "output_type": "stream",
     "text": [
      "Accuracy: 0.8773333333333333\n",
      "Confusion Matrix:\n",
      "[[313  12]\n",
      " [ 34  16]]\n",
      "Classification Report:\n",
      "              precision    recall  f1-score   support\n",
      "\n",
      "          No       0.90      0.96      0.93       325\n",
      "         Yes       0.57      0.32      0.41        50\n",
      "\n",
      "    accuracy                           0.88       375\n",
      "   macro avg       0.74      0.64      0.67       375\n",
      "weighted avg       0.86      0.88      0.86       375\n",
      "\n"
     ]
    },
    {
     "data": {
      "image/png": "[encoded data removed]",
      "text/plain": [
       "<Figure size 640x480 with 2 Axes>"
      ]
     },
     "metadata": {},
     "output_type": "display_data"
    }
   ],
   "source": [
    "# Split the dataset into features (X) and the target variable (y)\n",
    "X = CA_climate_fire_filtered[['tempmax', 'tempmin']]\n",
    "y = CA_climate_fire_filtered['fire']\n",
    "\n",
    "# Split the data into training and testing sets\n",
    "X_train, X_test, y_train, y_test = train_test_split(X, y, test_size=0.2, random_state=42)\n",
    "\n",
    "# Initialize and train the Gaussian Naïve Bayes classifier\n",
    "gnb = GaussianNB()\n",
    "gnb.fit(X_train, y_train)\n",
    "\n",
    "# Make predictions on the testing data\n",
    "y_pred = gnb.predict(X_test)\n",
    "\n",
    "\n",
    "# Model Evaluation\n",
    "accuracy = accuracy_score(y_test, y_pred)\n",
    "confusion = confusion_matrix(y_test, y_pred)\n",
    "report = classification_report(y_test, y_pred)\n",
    "\n",
    "print(\"Accuracy:\", accuracy)\n",
    "print(\"Confusion Matrix:\")\n",
    "print(confusion)\n",
    "print(\"Classification Report:\")\n",
    "print(report)\n",
    "\n",
    "# Display the confusion matrix\n",
    "sns.heatmap(confusion, annot=True, fmt='d', cmap='Blues', \n",
    "            xticklabels=['No Fire', 'Fire'], \n",
    "            yticklabels=['No Fire', 'Fire'])\n",
    "plt.xlabel('Predicted')\n",
    "plt.ylabel('Actual')\n",
    "plt.title('Confusion Matrix')\n",
    "plt.show()"
   ]
  },
  {
   "cell_type": "markdown",
   "metadata": {},
   "source": [
    "4. **Model Training & Testing**:\n",
    "   - Using the best features ('tempmax' and 'tempmin'), the Gaussian Naive Bayes model is trained on the training data.\n",
    "   - The trained model is then used to predict fire occurrences on the testing data.\n",
    "\n",
    "5. **Model Evaluation**:\n",
    "   - Various metrics such as accuracy, confusion matrix, precision, recall, and F1-score are calculated to evaluate the model's performance on the testing data.\n",
    "   - A heatmap (visualization) of the confusion matrix is displayed to provide insights into the model's predictions."
   ]
  },
  {
   "cell_type": "markdown",
   "metadata": {},
   "source": [
    "\n",
    "**Findings**: The Gaussian Naive Bayes model trained on the `CA_climate_fire` dataset, using the 'tempmax' and 'tempmin' features, achieved an accuracy of 87.73%. The confusion matrix provides detailed insights into the predictions, indicating that the model identified 313 true negatives and 16 true positives. However, there were 34 false negatives and 12 false positives.\n",
    "\n",
    "1. **Accuracy**: This is a ratio of correctly predicted observation to the total observations. In this case, it was 87.73%.\n",
    "2. **Precision**: It is the ratio of correctly predicted positive observations to the total predicted positives. For class 'No Fire', it was 90%.\n",
    "3. **Recall**: It is the ratio of correctly predicted positive observations to all the actual positives. For class 'No Fire', it was 96%.\n",
    "4. **F1-Score**: It is the weighted average of precision and recall. For class 'No Fire', it was 93%.\n",
    "\n",
    "Overfitting occurs when a model learns the training data too well, capturing noise and outliers, making it perform poorly on unseen data. Underfitting is the opposite, where the model fails to capture the underlying trend of the data. Given the accuracy of 87.73%, it seems the model is performing decently. However, because the dataset is extremely unbalanced because of the occurence of fire is not as often, this precision, recall and F1 score for \"No Fire\" is not as important as that of \"Fire\".\n",
    "\n",
    "1. **Precision** for the \"Fire\" class: 57.14%\n",
    "2. **Recall** for the \"Fire\" class: 32%\n",
    "3. **F-1 Score** for the \"Fire\" class: 41%\n",
    "\n",
    "The precision, recall, and F1-score for class 'Fire' are relatively low, suggesting the model struggles more with predicting fire occurrences compared to non-occurrences."
   ]
  },
  {
   "cell_type": "code",
   "execution_count": 8,
   "metadata": {},
   "outputs": [
    {
     "data": {
      "image/png": "[encoded data removed]",
      "text/plain": [
       "<Figure size 640x480 with 1 Axes>"
      ]
     },
     "metadata": {},
     "output_type": "display_data"
    }
   ],
   "source": [
    "# Predict the probabilities of the testing data\n",
    "y_prob = gnb.predict_proba(X_test)[:, 1]  # Only probabilities for 'Fire'\n",
    "\n",
    "# Compute ROC curve and ROC area (AUC)\n",
    "fpr, tpr, _ = roc_curve(y_test, y_prob, pos_label='Yes')\n",
    "roc_auc = auc(fpr, tpr)\n",
    "\n",
    "# Plot the ROC curve\n",
    "plt.figure()\n",
    "lw = 2  # Line width\n",
    "plt.plot(fpr, tpr, color='darkorange', lw=lw, label='ROC curve (area = %0.2f)' % roc_auc)\n",
    "plt.plot([0, 1], [0, 1], color='navy', lw=lw, linestyle='--')\n",
    "plt.xlim([0.0, 1.0])\n",
    "plt.ylim([0.0, 1.05])\n",
    "plt.xlabel('False Positive Rate')\n",
    "plt.ylabel('True Positive Rate')\n",
    "plt.title('Receiver Operating Characteristic (ROC) Curve')\n",
    "plt.legend(loc=\"lower right\")\n",
    "plt.show()"
   ]
  },
  {
   "cell_type": "markdown",
   "metadata": {},
   "source": [
    "1. **ROC Curve Shape**: The curve starts from the bottom-left corner and moves towards the top-right corner. It's above the diagonal dashed line, which represents a random classifier. The further away the curve is from this diagonal line (towards the top-left corner), the better the classifier's performance.\n",
    "   \n",
    "2. **Area Under the Curve (AUC)**: The area under the ROC curve is given as 0.87. AUC provides a single number summary of the classifier's performance across all thresholds. The maximum AUC value is 1, which corresponds to a perfect classifier. An AUC of 0.5 corresponds to a random classifier (no discriminative power). The given AUC of 0.87 indicates a good classifier.\n",
    "\n",
    "3. **Ideal Point**: The top-left corner of the ROC space, where TPR=1 and FPR=0, represents the ideal point where we have maximum true positives and no false positives. While the curve doesn't touch this point, it does come relatively close, suggesting the classifier has a good trade-off between sensitivity and specificity."
   ]
  },
  {
   "cell_type": "markdown",
   "metadata": {},
   "source": [
    "### Conclusion\n",
    "\n",
    "So far, we have applied the Gaussian Naive Bayes classifier to predict fire occurrences based on climatic conditions in California. Using the features 'tempmax' and 'tempmin', the model achieved an accuracy of 87.73%. While this indicates a good overall fit, the model's lower precision and recall for actual fire occurrences suggest there's room for improvement.\n",
    "\n",
    "The main reason for the poor performance on the NB model on predicting the occurence of wildfire is that we are dealing with a highly unbalanced dataset. Classifying such dataset presents a challenge because our Gaussian Naive Bayes algorithm is biased towards the majority class (No Fire), leading to poor performance on the minority class (Fire), which is of higher interest. Here are some strategies and best practices for dealing with highly unbalanced datasets:\n",
    "\n",
    "1. **Resampling Techniques**:\n",
    "   - **Upsampling (Over-sampling) the Minority Class**: Create copies of instances from the minority class or generate synthetic samples using methods like SMOTE (Synthetic Minority Over-sampling Technique) or ADASYN.\n",
    "   - **Downsampling (Under-sampling) the Majority Class**: Reduce the number of instances from the majority class to balance the class distribution. This can lead to loss of information.\n",
    "   - **Using Ensemble Resampling**: Combine over- and under-sampling techniques with ensemble methods like bagging and boosting.\n",
    "\n",
    "2. **Cost-sensitive Learning**:\n",
    "   - Adjust the algorithm to penalize misclassifying the minority class more than the majority class.\n",
    "   - Many algorithms have a parameter that allows setting class weights (e.g., `class_weight` in scikit-learn algorithms).\n",
    "\n",
    "3. **Anomaly Detection Approach**:\n",
    "   - Treat the problem as an anomaly (or outlier) detection task rather than a classification task. This is especially useful when the minority class can be considered an \"anomaly\" relative to the majority class.\n",
    "\n",
    "4. **Using Different Evaluation Metrics**:\n",
    "   - Accuracy is not a good metric for unbalanced datasets.\n",
    "   - Focus on metrics like Precision, Recall, F1-score, Area Under the Precision-Recall Curve (AUPRC), and Area Under the Receiver Operating Characteristic Curve (AUROC).\n",
    "\n",
    "5. **Ensemble Methods**:\n",
    "   - Ensemble methods, such as Random Forest or Gradient Boosting, can improve performance on imbalanced datasets.\n",
    "   - Additionally, techniques like Balanced Random Forest and Easy Ensemble can be effective.\n",
    "\n",
    "6. **Using Different Algorithms**:\n",
    "   - Some algorithms, like k-Nearest Neighbors, might inherently handle imbalance better than others.\n",
    "   - Neural networks with appropriate architectures and loss functions can also be explored.\n",
    "\n",
    "7. **Analyze the Problem Domain**:\n",
    "   - Incorporate domain-specific knowledge to engineer relevant features.\n",
    "   - Sometimes, understanding the reasons behind the imbalance can provide insights into the right resampling or modeling approach."
   ]
  },
  {
   "cell_type": "markdown",
   "metadata": {},
   "source": [
    "## Naive Bayes on Wildfire Prevention Articles"
   ]
  },
  {
   "cell_type": "markdown",
   "metadata": {},
   "source": [
    "In this section, we will perform Gaussian Naive Bayes on the wildfire prevention text dataset to build and evaluate a sentiment analysis model for the set of articles. "
   ]
  },
  {
   "cell_type": "markdown",
   "metadata": {},
   "source": [
    "### Code Overview"
   ]
  },
  {
   "cell_type": "code",
   "execution_count": 15,
   "metadata": {},
   "outputs": [],
   "source": [
    "import numpy as np\n",
    "import pandas as pd\n",
    "from sklearn.feature_extraction.text import CountVectorizer\n",
    "from sklearn.model_selection import train_test_split\n",
    "from sklearn.naive_bayes import GaussianNB\n",
    "from sklearn.naive_bayes import MultinomialNB\n",
    "from sklearn.model_selection import train_test_split\n",
    "from sklearn.feature_selection import SelectKBest, chi2\n",
    "from sklearn.metrics import accuracy_score, classification_report, confusion_matrix"
   ]
  },
  {
   "cell_type": "code",
   "execution_count": 9,
   "metadata": {},
   "outputs": [
    {
     "name": "stdout",
     "output_type": "stream",
     "text": [
      "0\n",
      "\"people have been let off the leash,\" thomas mayo says quietly, swiping through screenshots racist memes depicting first nations australians as \"grifters\", \"wife beaters\" and \"primitives\" flash ac… [+9064 chars] \n",
      "\n",
      "negative -1\n",
      "1\n",
      "in 2019 and 2020, a megafire scorched eastern australia, destroying some 24 million hectares of land, and adding to the hole in the ozone layer another massive fire ate away parts of northern califo… [+7274 chars] \n",
      "\n",
      "negative -1\n",
      "2\n",
      "all a wildfire needs is oxygen, an ignition to spark it, and fuel to burn its crackling embers and flickering flames dont know the difference between the california foothills, where residents are us… [+10837 chars] \n",
      "\n",
      "positive 1\n"
     ]
    }
   ],
   "source": [
    "articles_with_sentiment = pd.read_csv(\"../data/cleaned-data/articles_with_sentiment.csv\")\n",
    "# Create a 'sentiment' column based on the 'compound' values\n",
    "articles_with_sentiment['sentiment'] = articles_with_sentiment['compound'].apply(lambda x: 'positive' if x > 0 else ('negative' if x < 0 else 'neutral'))\n",
    "\n",
    "y=[]\n",
    "#ITERATE OVER ROWS\n",
    "\n",
    "for i in range(0,articles_with_sentiment.shape[0]):\n",
    "    # CONVERT STRINGS TO INT TAGS\n",
    "    if(articles_with_sentiment[\"sentiment\"][i]==\"positive\"):\n",
    "        y.append(1)\n",
    "    if(articles_with_sentiment[\"sentiment\"][i]==\"neutral\"):\n",
    "        y.append(0)\n",
    "    if(articles_with_sentiment[\"sentiment\"][i]==\"negative\"):\n",
    "        y.append(-1)\n",
    "\n",
    "    if(i<3):\n",
    "        print(i)\n",
    "        print(articles_with_sentiment[\"content\"][i].replace(\"<br />\",\"\"),'\\n')\n",
    "        print(articles_with_sentiment[\"sentiment\"][i],y[i])\n",
    "        \n",
    "# CONVERT Y TO NUMPY ARRAY\n",
    "y=np.array(y)"
   ]
  },
  {
   "cell_type": "markdown",
   "metadata": {},
   "source": [
    "Here, we create a new `sentiment` column in the DataFrame based on the values in the `compound` column. This column categorizes sentiment as positive, neutral, or negative.\n",
    "Iterate over the rows of the DataFrame to convert string sentiments (\"positive\", \"neutral\", \"negative\") into numerical labels (1, 0, -1) and store them in a list y. The first 3 rows are also printed for inspection. Lastly, we convert the list y to a numpy array for the subsequent modeling process."
   ]
  },
  {
   "cell_type": "code",
   "execution_count": null,
   "metadata": {},
   "outputs": [],
   "source": [
    "#| echo: false\n",
    "import requests\n",
    "import json\n",
    "import re\n",
    "import pandas as pd\n",
    "from sklearn.feature_extraction.text import CountVectorizer\n",
    "\n",
    "# Load the JSON data from the file\n",
    "with open(\"../data/raw-data/articles.json\", \"r\") as json_file:\n",
    "    data = json.load(json_file)\n",
    "    articles = pd.DataFrame(data)\n",
    "\n",
    "verbose=True\n",
    "\n",
    "def string_cleaner(input_string):\n",
    "    out = ''\n",
    "    try: \n",
    "        out=re.sub(r\"\"\"\n",
    "                    [,.;@#?!&$-]+  # Accept one or more copies of punctuation\n",
    "                    \\ *           # plus zero or more copies of a space,\n",
    "                    \"\"\",\n",
    "                    \" \",          # and replace it with a single space\n",
    "                    input_string, flags=re.VERBOSE)\n",
    "\n",
    "        #REPLACE SELECT CHARACTERS WITH NOTHING\n",
    "        out = re.sub('[’.]+', '', input_string)\n",
    "\n",
    "        #ELIMINATE DUPLICATE WHITESPACES USING WILDCARDS\n",
    "        out = re.sub(r'\\s+', ' ', out)\n",
    "\n",
    "        #CONVERT TO LOWER CASE\n",
    "        out=out.lower()\n",
    "    except:\n",
    "        print(\"ERROR\")\n",
    "        out=''\n",
    "    return out\n",
    "    \n",
    "article_keys = articles.columns\n",
    "print(\"AVAILABLE KEYS:\")\n",
    "print(article_keys)\n",
    "\n",
    "index = 0\n",
    "cleaned_data = []\n",
    "\n",
    "for _, article in articles.iterrows():\n",
    "    tmp = []\n",
    "    if verbose:\n",
    "        print(\"#------------------------------------------\")\n",
    "        print(\"#\", index)\n",
    "        print(\"#------------------------------------------\")\n",
    "\n",
    "    for key in article_keys:\n",
    "        if verbose:\n",
    "            print(\"----------------\")\n",
    "            print(key)\n",
    "            print(article[key])  # Access the value directly\n",
    "\n",
    "        if key == 'source':\n",
    "            src = string_cleaner(article['source']['name'])\n",
    "            tmp.append(src)\n",
    "\n",
    "        if key == 'author':\n",
    "            author = string_cleaner(article['author'])\n",
    "            # ERROR CHECK (SOMETIMES AUTHOR IS SAME AS PUBLICATION)\n",
    "            if src in author:\n",
    "                print(\" AUTHOR ERROR:\", author)\n",
    "                author = 'NA'\n",
    "            tmp.append(author)\n",
    "\n",
    "        if key == 'title':\n",
    "            tmp.append(string_cleaner(article['title']))\n",
    "\n",
    "        if key == 'description':\n",
    "            tmp.append(string_cleaner(article['description']))\n",
    "\n",
    "        if key == 'content':\n",
    "            tmp.append(string_cleaner(article['content']))\n",
    "\n",
    "        if key == 'publishedAt':\n",
    "            # DEFINE DATA PATTERN FOR RE TO CHECK  .* --> wildcard\n",
    "            ref = re.compile('.*-.*-.*T.*:.*:.*Z')\n",
    "            date = article['publishedAt']\n",
    "            if not ref.match(date):\n",
    "                print(\" DATE ERROR:\", date)\n",
    "                date = \"NA\"\n",
    "            tmp.append(date)\n",
    "\n",
    "    cleaned_data.append(tmp)\n",
    "    index += 1\n",
    "\n",
    "# Define a filter condition to check for \"[removed]\" in column 5\n",
    "filter_condition = lambda article: article[5] != \"[removed]\"\n",
    "\n",
    "# Use a list comprehension to create a new cleaned_data list with rows that satisfy the condition\n",
    "cleaned_data_filtered = [article for article in cleaned_data if filter_condition(article)]"
   ]
  },
  {
   "cell_type": "code",
   "execution_count": 12,
   "metadata": {},
   "outputs": [
    {
     "name": "stdout",
     "output_type": "stream",
     "text": [
      "(98, 500) (98,)\n"
     ]
    }
   ],
   "source": [
    "def vectorize(corpus,MAX_FEATURES):\n",
    "    vectorizer=CountVectorizer(max_features=MAX_FEATURES)   \n",
    "    # RUN COUNT VECTORIZER ON OUR COURPUS \n",
    "    Xs=vectorizer.fit_transform(corpus)   \n",
    "    X=np.array(Xs.todense())\n",
    "    #CONVERT TO ONE-HOT VECTORS (can also be done with binary=true in CountVectorizer)\n",
    "    maxs=np.max(X,axis=0)\n",
    "    return (np.ceil(X/maxs),vectorizer.vocabulary_)\n",
    "content_data = [article[5] for article in cleaned_data_filtered] \n",
    "(x,vocab0)=vectorize(content_data,MAX_FEATURES=500)\n",
    "# DOUBLE CHECK SHAPES\n",
    "print(x.shape,y.shape)"
   ]
  },
  {
   "cell_type": "markdown",
   "metadata": {},
   "source": [
    "Extract content data from the cleaned text dataset gained from the previous process and vectorize it using a CountVectorizer. The resulting matrix x and its vocabulary vocab0 are then further processed to reorder columns based on word frequency and remap the vocabulary accordingly."
   ]
  },
  {
   "cell_type": "code",
   "execution_count": 13,
   "metadata": {},
   "outputs": [
    {
     "name": "stdout",
     "output_type": "stream",
     "text": [
      "[ 4.  2.  2.  2.  2.  3.  2.  2.  2.  1.  3. 34.  2.  4.  8.  1.  1.  2.\n",
      "  1.  1.  1.  1.  1.  1.  1.  2.  1.  1.  1.  1.  1.  1.  1.  1.  1.  1.\n",
      "  3.  1.  1.  1.  1.  2.  2.  2.  2.  2.  2.  3.  7. 20.  7. 18.  2.  4.\n",
      "  2.  1.  3.  2.  2. 13.  6. 47.  2.  5.  9.  7.  2.  3.  9.  2.  8.  4.\n",
      "  2.  5.  2.  2.  2.  2.  3.  2.  2. 11.  6.  2.  4.  2.  2.  2.  4.  1.\n",
      "  2.  3. 12.  2.  3.  7.  2.  3.  5.  2.  2.  2.  3.  1. 98.  5. 20.  2.\n",
      "  5.  8.  1.  3.  2.  3.  3.  2.  5.  3.  3.  2.  2.  2.  2.  6.  2.  2.\n",
      "  3.  3.  2.  2.  5.  2.  5.  2.  3.  2.  3.  6.  2.  1.  2.  4. 19.  3.\n",
      "  2.  2.  2.  4.  2.  1.  3.  2.  4.  1.  5.  5.  3.  2.  6. 12.  5.  2.\n",
      "  2.  3.  5.  5.  2.  2.  2. 12.  3.  2.  2.  1.  9.  2.  2.  2.  5.  3.\n",
      " 18.  2.  2.  3.  5.  3.  2.  2.  2. 21.  8.  2.  7. 21. 14.  5.  5.  2.\n",
      "  3.  4.  3.  4.  2.  2.  4.  2.  2.  3. 48. 18. 18.  2.  5.  9. 27.  3.\n",
      " 10.  2.  2.  3.  1.  3.  1.  2.  3.  6.  3. 11.  2. 14.  6.  6.  2.  2.\n",
      "  2.  2.  3.  2.  2. 20.  3.  1.  5.  2.  4.  3.  2.  3.  3.  2.  2.  2.\n",
      "  2.  2.  2.  1.  1.  1.  6.  1.  5.  4.  1.  6.  1.  1.  1.  1.  1.  1.\n",
      "  5.  1.  6.  3.  2.  2.  1.  1.  2.  1.  1.  4.  1. 22.  3.  1. 17.  2.\n",
      "  1.  3.  1.  3.  1. 15.  8. 48.  2.  3.  6.  1.  1.  1. 23.  5.  1.  1.\n",
      "  1. 14.  1.  2.  1.  3.  3.  1.  1.  1.  5.  1.  1.  2.  1.  1.  1.  1.\n",
      "  1.  1.  1.  5.  2.  1.  1.  2.  1.  3.  1.  1.  1.  1.  1.  1.  7.  1.\n",
      "  1.  1.  2.  2.  4.  3.  1.  1.  1.  1.  1.  1.  7.  2.  2.  1.  7.  1.\n",
      "  6.  1.  2.  1.  1.  1.  2.  1.  6.  1.  1.  2.  2. 12.  1.  1.  2.  1.\n",
      "  1.  1.  5.  1.  1.  1.  1.  2.  1.  1.  5.  3.  5.  2.  1.  1.  3.  2.\n",
      "  2.  2.  2.  2.  1.  2.  3.  2.  2.  9.  2.  2.  2.  2. 10.  3.  4.  4.\n",
      "  2.  3.  1.  4.  2.  2.  4.  2.  6.  3.  4. 33.  2.  2.  2.  6.  5.  2.\n",
      "  2.  3.  3.  1.  2.  3.  1.  2.  5.  4.  2.  2.  3.  3.  1.  2.  2.  2.\n",
      "  4.  5. 37. 73.  3.  3.  2.  6.  1. 15.  2.  4.  8. 48.  2.  2.  2.  2.\n",
      "  3.  6.  9.  2.  1.  2.  5.  2.  5.  2.  4.  4.  4.  2.  4.  2.  9.  2.\n",
      " 22. 11.  2.  3. 15.  5.  5.  3.  5.  3. 11. 19.  2.  1.]\n",
      "   104  453  295  208  463  61   452  11   425  214  ...  363  349  350  351  \\\n",
      "0  1.0  1.0  0.0  0.0  0.0  1.0  0.0  0.0  0.0  0.0  ...  0.0  0.0  0.0  0.0   \n",
      "1  1.0  1.0  1.0  1.0  1.0  1.0  0.0  0.0  0.0  0.0  ...  0.0  0.0  0.0  0.0   \n",
      "2  1.0  1.0  0.0  0.0  1.0  1.0  0.0  0.0  0.0  1.0  ...  0.0  0.0  0.0  0.0   \n",
      "3  1.0  1.0  0.0  1.0  0.0  0.0  1.0  0.0  0.0  0.0  ...  0.0  0.0  0.0  0.0   \n",
      "4  1.0  1.0  1.0  1.0  1.0  1.0  0.0  0.0  0.0  1.0  ...  0.0  0.0  0.0  0.0   \n",
      "\n",
      "   352  353  357  359  361  499  \n",
      "0  0.0  0.0  0.0  0.0  0.0  0.0  \n",
      "1  0.0  0.0  0.0  0.0  0.0  0.0  \n",
      "2  0.0  0.0  0.0  0.0  0.0  0.0  \n",
      "3  0.0  0.0  0.0  1.0  0.0  0.0  \n",
      "4  0.0  0.0  0.0  0.0  0.0  0.0  \n",
      "\n",
      "[5 rows x 500 columns]\n",
      "\n",
      "   0    1    2    3    4    5    6    7    8    9    ...  490  491  492  493  \\\n",
      "0  1.0  1.0  0.0  0.0  0.0  1.0  0.0  0.0  0.0  0.0  ...  0.0  0.0  0.0  0.0   \n",
      "1  1.0  1.0  1.0  1.0  1.0  1.0  0.0  0.0  0.0  0.0  ...  0.0  0.0  0.0  0.0   \n",
      "2  1.0  1.0  0.0  0.0  1.0  1.0  0.0  0.0  0.0  1.0  ...  0.0  0.0  0.0  0.0   \n",
      "3  1.0  1.0  0.0  1.0  0.0  0.0  1.0  0.0  0.0  0.0  ...  0.0  0.0  0.0  0.0   \n",
      "4  1.0  1.0  1.0  1.0  1.0  1.0  0.0  0.0  0.0  1.0  ...  0.0  0.0  0.0  0.0   \n",
      "\n",
      "   494  495  496  497  498  499  \n",
      "0  0.0  0.0  0.0  0.0  0.0  0.0  \n",
      "1  0.0  0.0  0.0  0.0  0.0  0.0  \n",
      "2  0.0  0.0  0.0  0.0  0.0  0.0  \n",
      "3  0.0  0.0  0.0  1.0  0.0  0.0  \n",
      "4  0.0  0.0  0.0  0.0  0.0  0.0  \n",
      "\n",
      "[5 rows x 500 columns]\n",
      "0      98.0\n",
      "1      73.0\n",
      "2      48.0\n",
      "3      48.0\n",
      "4      48.0\n",
      "       ... \n",
      "495     1.0\n",
      "496     1.0\n",
      "497     1.0\n",
      "498     1.0\n",
      "499     1.0\n",
      "Length: 500, dtype: float64\n",
      "(98, 500) (98,)\n"
     ]
    }
   ],
   "source": [
    "#swap keys and values (value --> ley)\n",
    "vocab1 = dict([(value, key) for key, value in vocab0.items()])\n",
    "# CHECK TO SEE IF COUNT-VECT COLUMNS ARE SORTED BY OCCURRENCE \n",
    "print(x.sum(axis=0))\n",
    "#RE-ORDER COLUMN SO IT IS SORTED FROM HIGH FREQ TERMS TO LOW \n",
    "df2=pd.DataFrame(x)\n",
    "s = df2.sum(axis=0)\n",
    "df2=df2[s.sort_values(ascending=False).index[:]]\n",
    "print(df2.head())\n",
    "# REMAP DICTIONARY TO CORRESPOND TO NEW COLUMN NUMBERS\n",
    "print()\n",
    "i1=0\n",
    "vocab2={}\n",
    "for i2 in list(df2.columns):\n",
    "    # print(i2)\n",
    "    vocab2[i1]=vocab1[int(i2)]\n",
    "    i1+=1\n",
    "\n",
    "# RENAME COLUMNS 0,1,2,3 .. \n",
    "df2.columns = range(df2.columns.size)\n",
    "print(df2.head())\n",
    "print(df2.sum(axis=0))\n",
    "x=df2.to_numpy()\n",
    "# DOUBLE CHECK \n",
    "print(x.shape,y.shape)"
   ]
  },
  {
   "cell_type": "markdown",
   "metadata": {},
   "source": [
    " The code reorders the columns of the matrix based on term frequencies, updates the associated vocabulary to reflect this reordering, and checks data consistency at various steps."
   ]
  },
  {
   "cell_type": "code",
   "execution_count": 16,
   "metadata": {},
   "outputs": [
    {
     "name": "stdout",
     "output_type": "stream",
     "text": [
      "Accuracy: 0.9\n",
      "Confusion Matrix:\n",
      "[[9 0 1]\n",
      " [0 5 0]\n",
      " [1 0 4]]\n",
      "Classification Report:\n",
      "              precision    recall  f1-score   support\n",
      "\n",
      "          -1       0.90      0.90      0.90        10\n",
      "           0       1.00      1.00      1.00         5\n",
      "           1       0.80      0.80      0.80         5\n",
      "\n",
      "    accuracy                           0.90        20\n",
      "   macro avg       0.90      0.90      0.90        20\n",
      "weighted avg       0.90      0.90      0.90        20\n",
      "\n"
     ]
    }
   ],
   "source": [
    "# Split the dataset into training and testing sets\n",
    "X_train, X_test, y_train, y_test = train_test_split(x, y, test_size=0.2, random_state=42)\n",
    "# Chi-Squared Feature Selection\n",
    "k_best = SelectKBest(score_func=chi2, k=500)  \n",
    "X_train_selected = k_best.fit_transform(X_train, y_train)\n",
    "X_test_selected = k_best.transform(X_test)\n",
    "\n",
    "# Model Building\n",
    "mnb = MultinomialNB()\n",
    "mnb.fit(X_train_selected, y_train)\n",
    "\n",
    "# Model Evaluation\n",
    "y_pred = mnb.predict(X_test_selected)\n",
    "accuracy = accuracy_score(y_test, y_pred)\n",
    "confusion = confusion_matrix(y_test, y_pred)\n",
    "report = classification_report(y_test, y_pred)\n",
    "\n",
    "print(\"Accuracy:\", accuracy)\n",
    "print(\"Confusion Matrix:\")\n",
    "print(confusion)\n",
    "print(\"Classification Report:\")\n",
    "print(report)\n",
    "\n",
    "# Get the feature names corresponding to the selected features\n",
    "selected_feature_indices = k_best.get_support(indices=True)\n",
    "# Create the selected_features variable using vocab2\n",
    "selected_features = [vocab2[i] for i in selected_feature_indices]"
   ]
  },
  {
   "cell_type": "markdown",
   "metadata": {},
   "source": [
    "**Feature Selection & Model Building**:\n",
    "\n",
    "- Split the dataset into training and testing sets using a 80-20 split ratio.\n",
    "- Apply Chi-Squared feature selection to retain the top 500 best features from the data.\n",
    "- Build a Multinomial Naive Bayes classifier using the selected features from the training set.\n",
    "- Train the model on the training data and make predictions on the testing data."
   ]
  },
  {
   "cell_type": "code",
   "execution_count": 17,
   "metadata": {},
   "outputs": [
    {
     "data": {
      "image/png": "[encoded data removed]",
      "text/plain": [
       "<Figure size 800x600 with 2 Axes>"
      ]
     },
     "metadata": {},
     "output_type": "display_data"
    }
   ],
   "source": [
    "# Confusion Matrix\n",
    "plt.figure(figsize=(8, 6))\n",
    "sns.heatmap(confusion, annot=True, fmt=\"d\", cmap=\"Blues\", xticklabels=[\"Negative\", \"Neutral\", \"Positive\"], yticklabels=[\"Negative\", \"Neutral\", \"Positive\"])\n",
    "plt.xlabel(\"Predicted\")\n",
    "plt.ylabel(\"Actual\")\n",
    "plt.title(\"Confusion Matrix Heatmap\")\n",
    "plt.show()"
   ]
  },
  {
   "cell_type": "code",
   "execution_count": 18,
   "metadata": {},
   "outputs": [
    {
     "data": {
      "image/png": "[encoded data removed]",
      "text/plain": [
       "<Figure size 640x480 with 1 Axes>"
      ]
     },
     "metadata": {},
     "output_type": "display_data"
    }
   ],
   "source": [
    "from sklearn.metrics import classification_report\n",
    "\n",
    "report = classification_report(y_test, y_pred, output_dict=True)\n",
    "labels = list(report.keys())[:-3]  # Exclude 'accuracy', 'macro avg', and 'weighted avg'\n",
    "\n",
    "precision = [report[label]['precision'] for label in labels]\n",
    "recall = [report[label]['recall'] for label in labels]\n",
    "f1_score = [report[label]['f1-score'] for label in labels]\n",
    "\n",
    "x = range(len(labels))\n",
    "plt.bar(x, precision, width=0.2, label='Precision', align='center')\n",
    "plt.bar(x, recall, width=0.2, label='Recall', bottom=precision, align='center')\n",
    "plt.bar(x, f1_score, width=0.2, label='F1-score', bottom=[i+j for i,j in zip(precision, recall)], align='center')\n",
    "\n",
    "plt.xlabel('Labels')\n",
    "plt.ylabel('Score')\n",
    "plt.title('Precision, Recall, and F1-score per Label')\n",
    "plt.xticks(x, labels)\n",
    "plt.legend()\n",
    "plt.tight_layout()\n",
    "plt.show()\n"
   ]
  },
  {
   "cell_type": "markdown",
   "metadata": {},
   "source": [
    "**Findings**:\n",
    "\n",
    "**1. Visualizations:**\n",
    "   \n",
    "   a. **Confusion Matrix Heatmap:** The heatmap shows the distribution of the model’s predictions against the actual sentiments. Each cell value represents the count of samples.\n",
    " \n",
    "   b. **Precision, Recall, and F1-score Bar Chart:** The visualization displays Precision, Recall, and F1-score for three sentiment labels. For Negative (-1) and Positive (1) sentiments, the model demonstrates strong precision nearing 1.0. However, there are inconsistencies in the Neutral (0) sentiment and recall values for all labels, as some metrics surpass the theoretical maximum of 1.0. This suggests possible data or visual errors that need further investigation.\n",
    "\n",
    "**2. Testing the Model:**\n",
    "The trained model is tested using a separate dataset that it has never seen before, ensuring an unbiased performance evaluation. The test dataset consists of 20 articles, as inferred from the dimensions of the confusion matrix.\n",
    "\n",
    "**3. Evaluation Metrics:**\n",
    "- **Accuracy:** This metric gives the proportion of correctly predicted sentiments out of all predictions. The accuracy of the model is 90%.\n",
    "  \n",
    "- **Precision:** It denotes the correctness of the positive predictions. For instance, for negative sentiment, the precision is 0.90, meaning 90% of the articles predicted as negative were actually negative.\n",
    "  \n",
    "- **Recall:** It represents the fraction of actual positives the model caught. For the negative sentiment, the recall is 0.90, which means the model caught 90% of actual negative articles.\n",
    "  \n",
    "- **F1-score:** This is the harmonic mean of precision and recall. For the negative sentiment, it’s 0.90, highlighting a balanced precision and recall.\n",
    "\n",
    "**4. Model's Performance:**\n",
    "The model’s performance is commendable, with an accuracy of 90%. This means it predicts the sentiment of an article correctly 90% of the time. The model particularly shines in identifying neutral sentiments, with a perfect precision and recall. However, there's some confusion between negative and positive classifications."
   ]
  },
  {
   "cell_type": "markdown",
   "metadata": {},
   "source": [
    "### Conclusion\n",
    "\n",
    "The sentiment analysis model demonstrates a robust capability to classify articles into negative, neutral, and positive sentiments, achieving a 90% accuracy rate. Its impeccable performance on neutral articles and fairly good results on negative and positive sentiments highlight its utility. Nonetheless, there's still room for improvement, particularly in distinguishing between negative and positive sentiments. Future work might involve optimizing feature selection, trying different classifiers, or incorporating more training data."
   ]
  }
 ],
 "metadata": {
  "kernelspec": {
   "display_name": "Python 3",
   "language": "python",
   "name": "python3"
  },
  "language_info": {
   "codemirror_mode": {
    "name": "ipython",
    "version": 3
   },
   "file_extension": ".py",
   "mimetype": "text/x-python",
   "name": "python",
   "nbconvert_exporter": "python",
   "pygments_lexer": "ipython3",
   "version": "3.11.5"
  },
  "orig_nbformat": 4
 },
 "nbformat": 4,
 "nbformat_minor": 2
}
