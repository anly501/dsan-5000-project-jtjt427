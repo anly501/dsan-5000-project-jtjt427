{
 "cells": [
  {
   "cell_type": "markdown",
   "metadata": {},
   "source": []
  },
  {
   "cell_type": "code",
   "execution_count": 2,
   "metadata": {},
   "outputs": [],
   "source": [
    "import pandas as pd\n",
    "import numpy as np\n",
    "from sklearn.model_selection import train_test_split\n",
    "from sklearn.naive_bayes import GaussianNB\n",
    "from sklearn.metrics import accuracy_score\n",
    "from itertools import chain, combinations\n",
    "from sklearn.metrics import confusion_matrix\n",
    "import seaborn as sns\n",
    "import matplotlib.pyplot as plt\n",
    "from sklearn.metrics import accuracy_score, classification_report, confusion_matrix"
   ]
  },
  {
   "cell_type": "code",
   "execution_count": 3,
   "metadata": {},
   "outputs": [],
   "source": [
    "CA_climate_fire = pd.read_csv('../data/cleaned-data/CA_climate_fire.csv')"
   ]
  },
  {
   "cell_type": "code",
   "execution_count": 4,
   "metadata": {},
   "outputs": [
    {
     "name": "stdout",
     "output_type": "stream",
     "text": [
      "   tempmax  tempmin  humidity  precip  windspeed fire\n",
      "0     14.3      5.4      85.7   0.000       11.2   No\n",
      "1     17.0      4.2      78.1   0.000       19.0   No\n",
      "2     15.0      3.8      83.0   0.000        9.0   No\n",
      "3     13.6      5.7      89.6   1.736       16.7   No\n",
      "4     15.1      3.2      80.9   0.000       16.2   No\n"
     ]
    }
   ],
   "source": [
    "CA_climate_fire_filtered = CA_climate_fire[['tempmax', 'tempmin', 'humidity', 'precip', 'windspeed', 'fire']]\n",
    "print(CA_climate_fire_filtered.head())"
   ]
  },
  {
   "cell_type": "code",
   "execution_count": 5,
   "metadata": {},
   "outputs": [
    {
     "name": "stdout",
     "output_type": "stream",
     "text": [
      "Best Feature Set: ('tempmax', 'tempmin')\n",
      "Best Accuracy: 0.8773333333333333\n"
     ]
    }
   ],
   "source": [
    "# Split the dataset into features and the target variable \n",
    "X = CA_climate_fire_filtered.drop(columns=[\"fire\"]) \n",
    "y = CA_climate_fire_filtered[\"fire\"]\n",
    "\n",
    "# Split the data into training and testing sets\n",
    "X_train, X_test, y_train, y_test = train_test_split(X, y, test_size=0.2, random_state=42)\n",
    "\n",
    "def powerset(iterable):\n",
    "    s = list(iterable)\n",
    "    return chain.from_iterable(combinations(s, r) for r in range(len(s)+1))\n",
    "\n",
    "# Initialize variables to keep track of the best feature set and its accuracy\n",
    "best_feature_set = None\n",
    "best_accuracy = 0.0\n",
    "# Generate all possible feature combinations using the powerset function\n",
    "all_feature_combinations = list(powerset(X.columns))\n",
    "\n",
    "# Loop through each feature combination\n",
    "for feature_set in all_feature_combinations:\n",
    "    if len(feature_set) > 0:  # Skip the empty set\n",
    "        # Subset the training and testing data using the current feature set\n",
    "        X_train_subset = X_train[list(feature_set)]\n",
    "        X_test_subset = X_test[list(feature_set)]\n",
    "\n",
    "        # Initialize and train a Gaussian Naïve Bayes classifier\n",
    "        gnb = GaussianNB()\n",
    "        gnb.fit(X_train_subset, y_train)\n",
    "\n",
    "        # Make predictions on the testing data\n",
    "        y_pred = gnb.predict(X_test_subset)\n",
    "\n",
    "        # Calculate accuracy\n",
    "        accuracy = accuracy_score(y_test, y_pred)\n",
    "\n",
    "        # Update the best feature set if the current one is better\n",
    "        if accuracy > best_accuracy:\n",
    "            best_accuracy = accuracy\n",
    "            best_feature_set = feature_set\n",
    "\n",
    "# Print the best feature set and its accuracy\n",
    "print(\"Best Feature Set:\", best_feature_set)\n",
    "print(\"Best Accuracy:\", best_accuracy)"
   ]
  },
  {
   "cell_type": "code",
   "execution_count": 6,
   "metadata": {},
   "outputs": [
    {
     "name": "stdout",
     "output_type": "stream",
     "text": [
      "Accuracy: 0.8773333333333333\n",
      "Confusion Matrix:\n",
      "[[313  12]\n",
      " [ 34  16]]\n",
      "Classification Report:\n",
      "              precision    recall  f1-score   support\n",
      "\n",
      "          No       0.90      0.96      0.93       325\n",
      "         Yes       0.57      0.32      0.41        50\n",
      "\n",
      "    accuracy                           0.88       375\n",
      "   macro avg       0.74      0.64      0.67       375\n",
      "weighted avg       0.86      0.88      0.86       375\n",
      "\n"
     ]
    },
    {
     "data": {
      "image/png": "[encoded data removed]",
      "text/plain": [
       "<Figure size 640x480 with 2 Axes>"
      ]
     },
     "metadata": {},
     "output_type": "display_data"
    }
   ],
   "source": [
    "# Split the dataset into features (X) and the target variable (y)\n",
    "X = CA_climate_fire_filtered[['tempmax', 'tempmin']]\n",
    "y = CA_climate_fire_filtered['fire']\n",
    "\n",
    "# Split the data into training and testing sets\n",
    "X_train, X_test, y_train, y_test = train_test_split(X, y, test_size=0.2, random_state=42)\n",
    "\n",
    "# Initialize and train the Gaussian Naïve Bayes classifier\n",
    "gnb = GaussianNB()\n",
    "gnb.fit(X_train, y_train)\n",
    "\n",
    "# Make predictions on the testing data\n",
    "y_pred = gnb.predict(X_test)\n",
    "\n",
    "\n",
    "# Model Evaluation\n",
    "accuracy = accuracy_score(y_test, y_pred)\n",
    "confusion = confusion_matrix(y_test, y_pred)\n",
    "report = classification_report(y_test, y_pred)\n",
    "\n",
    "print(\"Accuracy:\", accuracy)\n",
    "print(\"Confusion Matrix:\")\n",
    "print(confusion)\n",
    "print(\"Classification Report:\")\n",
    "print(report)\n",
    "\n",
    "# Display the confusion matrix\n",
    "sns.heatmap(confusion, annot=True, fmt='d', cmap='Blues', \n",
    "            xticklabels=['No Fire', 'Fire'], \n",
    "            yticklabels=['No Fire', 'Fire'])\n",
    "plt.xlabel('Predicted')\n",
    "plt.ylabel('Actual')\n",
    "plt.title('Confusion Matrix')\n",
    "plt.show()\n"
   ]
  }
 ],
 "metadata": {
  "kernelspec": {
   "display_name": "Python 3",
   "language": "python",
   "name": "python3"
  },
  "language_info": {
   "codemirror_mode": {
    "name": "ipython",
    "version": 3
   },
   "file_extension": ".py",
   "mimetype": "text/x-python",
   "name": "python",
   "nbconvert_exporter": "python",
   "pygments_lexer": "ipython3",
   "version": "3.11.5"
  },
  "orig_nbformat": 4
 },
 "nbformat": 4,
 "nbformat_minor": 2
}
